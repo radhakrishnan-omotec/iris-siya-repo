{
  "nbformat": 4,
  "nbformat_minor": 0,
  "metadata": {
    "colab": {
      "provenance": [],
      "authorship_tag": "ABX9TyOx/fXNBoz5OomqZFVl2M/+",
      "include_colab_link": true
    },
    "kernelspec": {
      "name": "python3",
      "display_name": "Python 3"
    },
    "language_info": {
      "name": "python"
    }
  },
  "cells": [
    {
      "cell_type": "markdown",
      "metadata": {
        "id": "view-in-github",
        "colab_type": "text"
      },
      "source": [
        "<a href=\"https://colab.research.google.com/github/radhakrishnan-omotec/iris-siya-repo/blob/main/Siya_Project1.ipynb\" target=\"_parent\"><img src=\"https://colab.research.google.com/assets/colab-badge.svg\" alt=\"Open In Colab\"/></a>"
      ]
    },
    {
      "cell_type": "markdown",
      "source": [
        "#Enhanced Methodology for Python Implementation Using Google Colab and Ethereum Ledger\n",
        "\n",
        "Author : SIYA SINGH"
      ],
      "metadata": {
        "id": "veX0E2CY57nC"
      }
    },
    {
      "cell_type": "markdown",
      "source": [
        "This enhanced approach is structured so that Google Colab will be used to:\n",
        "\n",
        "    Connect to the Ethereum Ledger (via Infura/Alchemy).\n",
        "    Deploy and interact with smart contracts on Ethereum.\n",
        "    Send and verify transactions on the Ethereum ledger.\n",
        "    Ensure that all transactions are authorized and handled through the Ethereum ledger, with smart contracts managing fund flows."
      ],
      "metadata": {
        "id": "H9FRviaE6BOw"
      }
    },
    {
      "cell_type": "markdown",
      "source": [
        "The methodology to focus on the Python implementation using Google Colab will involve breaking down each step into concrete Python code using Web3.py to interact with the Ethereum Ledger. We'll use Google Colab's Python environment for deploying smart contracts, sending transactions, and verifying blockchain states."
      ],
      "metadata": {
        "id": "-HEXtRR26Cua"
      }
    },
    {
      "cell_type": "markdown",
      "source": [
        "#1. Environment Setup on Google Colab\n",
        "**Install Necessary Packages**\n",
        "\n",
        "The Web3.py library will allow us to interact with the Ethereum blockchain. First, we need to install it in Google Colab."
      ],
      "metadata": {
        "id": "0LLDYolr6JN5"
      }
    },
    {
      "cell_type": "code",
      "execution_count": null,
      "metadata": {
        "id": "s7hQeey352WO"
      },
      "outputs": [],
      "source": [
        "# Install Web3.py to interact with Ethereum blockchain\n",
        "!pip install web3"
      ]
    },
    {
      "cell_type": "markdown",
      "source": [
        "**Connect to Ethereum Ledger via Infura/Alchemy**\n",
        "\n",
        "Once Web3 is installed, we’ll connect to the Ethereum ledger via a service like Infura or Alchemy."
      ],
      "metadata": {
        "id": "p_ob8Rkk6Nz_"
      }
    },
    {
      "cell_type": "code",
      "source": [
        "from web3 import Web3\n",
        "\n",
        "# Connect to Ethereum Mainnet through Infura (replace YOUR_INFURA_PROJECT_ID with your own)\n",
        "infura_url = \"https://mainnet.infura.io/v3/YOUR_INFURA_PROJECT_ID\"\n",
        "web3 = Web3(Web3.HTTPProvider(infura_url))\n",
        "\n",
        "# Check if the connection is successful\n",
        "if web3.isConnected():\n",
        "    print(\"Connected to Ethereum Mainnet\")\n",
        "else:\n",
        "    print(\"Failed to connect\")"
      ],
      "metadata": {
        "id": "a7NXZF2d6RIf"
      },
      "execution_count": null,
      "outputs": []
    },
    {
      "cell_type": "markdown",
      "source": [
        "**Create Wallets and Fund Transfer Accounts**\n",
        "\n",
        "To interact with Ethereum, we will need a wallet for both donors and NGOs. We can create or import Ethereum accounts directly into Google Colab."
      ],
      "metadata": {
        "id": "2Uqzcoz66Tuc"
      }
    },
    {
      "cell_type": "code",
      "source": [
        "# Create new Ethereum account (for demo purposes)\n",
        "account = web3.eth.account.create()\n",
        "private_key = account.privateKey.hex()\n",
        "public_address = account.address\n",
        "\n",
        "print(f\"New Ethereum Wallet Created: {public_address}\")\n"
      ],
      "metadata": {
        "id": "VyrLsKX-6XU4"
      },
      "execution_count": null,
      "outputs": []
    },
    {
      "cell_type": "markdown",
      "source": [
        "#2. Smart Contract Development\n",
        "**Create a Smart Contract for NGO Fund Management**\n",
        "\n",
        "The smart contract will handle donations and manage the flow of funds from donors to NGOs. We can write and deploy the smart contract using Solidity."
      ],
      "metadata": {
        "id": "eKr-YbzQ6ZVt"
      }
    },
    {
      "cell_type": "markdown",
      "source": [
        "Here's the Solidity code for a simple NGO fund management contract:"
      ],
      "metadata": {
        "id": "fVDUd5Ys6lHD"
      }
    },
    {
      "cell_type": "code",
      "source": [
        "// Solidity contract for managing NGO donations\n",
        "pragma solidity ^0.8.0;\n",
        "\n",
        "contract NGOFundLedger {\n",
        "    address public ngo;\n",
        "    address public donor;\n",
        "    uint256 public donationAmount;\n",
        "\n",
        "    constructor(address _ngo) {\n",
        "        ngo = _ngo;\n",
        "    }\n",
        "\n",
        "    // Donor can send donations\n",
        "    function donate() public payable {\n",
        "        require(msg.value > 0, \"Donation must be greater than zero\");\n",
        "        donor = msg.sender;\n",
        "        donationAmount = msg.value;\n",
        "    }\n",
        "\n",
        "    // Only the NGO can release the funds\n",
        "    function releaseFunds() public {\n",
        "        require(msg.sender == ngo, \"Only NGO can release funds\");\n",
        "        payable(ngo).transfer(donationAmount);\n",
        "    }\n",
        "\n",
        "    // Function to check donation details\n",
        "    function getDonationDetails() public view returns (address, uint256) {\n",
        "        return (donor, donationAmount);\n",
        "    }\n",
        "}"
      ],
      "metadata": {
        "id": "v-a4W8Og6iqr"
      },
      "execution_count": null,
      "outputs": []
    },
    {
      "cell_type": "markdown",
      "source": [
        "**Compile and Deploy the Smart Contract Using Google Colab**\n",
        "\n",
        "We need to use Web3.py to deploy this contract on the Ethereum Ledger. For that, we’ll compile the Solidity code using a tool like Solcx or use online tools like Remix for compilation."
      ],
      "metadata": {
        "id": "eJLs_-3W6pii"
      }
    },
    {
      "cell_type": "code",
      "source": [
        "# Install Solcx for compiling Solidity code\n",
        "!pip install py-solc-x\n",
        "\n",
        "from solcx import compile_standard\n",
        "\n",
        "# Solidity source code\n",
        "solidity_code = '''\n",
        "// Solidity contract for managing NGO donations\n",
        "pragma solidity ^0.8.0;\n",
        "\n",
        "contract NGOFundLedger {\n",
        "    address public ngo;\n",
        "    address public donor;\n",
        "    uint256 public donationAmount;\n",
        "\n",
        "    constructor(address _ngo) {\n",
        "        ngo = _ngo;\n",
        "    }\n",
        "\n",
        "    function donate() public payable {\n",
        "        require(msg.value > 0, \"Donation must be greater than zero\");\n",
        "        donor = msg.sender;\n",
        "        donationAmount = msg.value;\n",
        "    }\n",
        "\n",
        "    function releaseFunds() public {\n",
        "        require(msg.sender == ngo, \"Only NGO can release funds\");\n",
        "        payable(ngo).transfer(donationAmount);\n",
        "    }\n",
        "\n",
        "    function getDonationDetails() public view returns (address, uint256) {\n",
        "        return (donor, donationAmount);\n",
        "    }\n",
        "}\n",
        "'''\n",
        "\n",
        "# Compile the contract\n",
        "compiled_sol = compile_standard({\n",
        "    \"language\": \"Solidity\",\n",
        "    \"sources\": {\n",
        "        \"NGOFundLedger.sol\": {\n",
        "            \"content\": solidity_code\n",
        "        }\n",
        "    },\n",
        "    \"settings\": {\n",
        "        \"outputSelection\": {\n",
        "            \"*\": {\n",
        "                \"*\": [\"metadata\", \"evm.bytecode\", \"evm.sourceMap\"]\n",
        "            }\n",
        "        }\n",
        "    }\n",
        "})\n",
        "\n",
        "# Bytecode and ABI\n",
        "bytecode = compiled_sol['contracts']['NGOFundLedger.sol']['NGOFundLedger']['evm']['bytecode']['object']\n",
        "abi = compiled_sol['contracts']['NGOFundLedger.sol']['NGOFundLedger']['abi']\n",
        "\n",
        "# Create the contract in Python\n",
        "NGOFundLedger = web3.eth.contract(abi=abi, bytecode=bytecode)"
      ],
      "metadata": {
        "id": "GS5v3VSv6wKe"
      },
      "execution_count": null,
      "outputs": []
    },
    {
      "cell_type": "markdown",
      "source": [
        "**Now, we deploy the smart contract on the Ethereum ledger.**"
      ],
      "metadata": {
        "id": "kikg_sov63Kj"
      }
    },
    {
      "cell_type": "code",
      "source": [
        "# NGO wallet address (from previously created account)\n",
        "ngo_address = \"0xYourNGOAddress\"\n",
        "\n",
        "# Deploy the smart contract\n",
        "tx_hash = NGOFundLedger.constructor(ngo_address).transact({\n",
        "    'from': public_address,  # This is the address of the sender\n",
        "    'gas': 2000000,  # Gas limit\n",
        "    'gasPrice': web3.toWei('20', 'gwei')  # Gas price\n",
        "})\n",
        "\n",
        "# Get transaction receipt after deployment\n",
        "tx_receipt = web3.eth.waitForTransactionReceipt(tx_hash)\n",
        "contract_address = tx_receipt.contractAddress\n",
        "\n",
        "print(f\"Smart Contract Deployed at: {contract_address}\")"
      ],
      "metadata": {
        "id": "BcNVS-Qd66kE"
      },
      "execution_count": null,
      "outputs": []
    },
    {
      "cell_type": "markdown",
      "source": [
        "#3. Transactions and Fund Management\n",
        "**Donation Flow**\n",
        "\n",
        "Once the smart contract is deployed, we will allow donors to send ETH to the smart contract."
      ],
      "metadata": {
        "id": "J7yfG47E69Hd"
      }
    },
    {
      "cell_type": "code",
      "source": [
        "# Donor sends ETH as a donation to the smart contract\n",
        "donation_tx = NGOFundLedger.functions.donate().buildTransaction({\n",
        "    'from': donor_address,\n",
        "    'value': web3.toWei(1, 'ether'),  # 1 ETH donation\n",
        "    'nonce': web3.eth.getTransactionCount(donor_address),\n",
        "    'gas': 2000000,\n",
        "    'gasPrice': web3.toWei('20', 'gwei')\n",
        "})\n",
        "\n",
        "# Sign the transaction with the donor's private key\n",
        "signed_donation_tx = web3.eth.account.signTransaction(donation_tx, donor_private_key)\n",
        "\n",
        "# Send the transaction to the Ethereum network\n",
        "tx_hash = web3.eth.sendRawTransaction(signed_donation_tx.rawTransaction)\n",
        "print(f\"Donation transaction hash: {web3.toHex(tx_hash)}\")\n"
      ],
      "metadata": {
        "id": "kv0jkkgX7DUs"
      },
      "execution_count": null,
      "outputs": []
    },
    {
      "cell_type": "markdown",
      "source": [
        "**Fund Release by NGO**\n",
        "\n",
        "The NGO can now release the funds to their own account once donations are received."
      ],
      "metadata": {
        "id": "ZNeNbXVZ7FQ6"
      }
    },
    {
      "cell_type": "code",
      "source": [
        "# NGO releases funds from the smart contract\n",
        "release_tx = NGOFundLedger.functions.releaseFunds().buildTransaction({\n",
        "    'from': ngo_address,\n",
        "    'nonce': web3.eth.getTransactionCount(ngo_address),\n",
        "    'gas': 2000000,\n",
        "    'gasPrice': web3.toWei('20', 'gwei')\n",
        "})\n",
        "\n",
        "# Sign and send the transaction\n",
        "signed_release_tx = web3.eth.account.signTransaction(release_tx, ngo_private_key)\n",
        "release_tx_hash = web3.eth.sendRawTransaction(signed_release_tx.rawTransaction)\n",
        "\n",
        "print(f\"Funds Released, Tx Hash: {web3.toHex(release_tx_hash)}\")\n"
      ],
      "metadata": {
        "id": "T6oS9HPm7JEf"
      },
      "execution_count": null,
      "outputs": []
    },
    {
      "cell_type": "markdown",
      "source": [
        "#4. Testing and Validation\n",
        "\n",
        "After each transaction (donation or fund release), we can validate it by checking the blockchain.\n",
        "\n",
        "**Check Donation Details**"
      ],
      "metadata": {
        "id": "_9YSrtSv7KuW"
      }
    },
    {
      "cell_type": "code",
      "source": [
        "# View donation details\n",
        "donor, amount = NGOFundLedger.functions.getDonationDetails().call()\n",
        "print(f\"Donor Address: {donor}, Donation Amount: {web3.fromWei(amount, 'ether')} ETH\")\n"
      ],
      "metadata": {
        "id": "BgonjHsj7OsA"
      },
      "execution_count": null,
      "outputs": []
    },
    {
      "cell_type": "markdown",
      "source": [
        "**Check Transaction on Ethereum Ledger**\n",
        "\n",
        "To validate the transactions, we can query the Ethereum ledger."
      ],
      "metadata": {
        "id": "aVdhrJY17Sce"
      }
    },
    {
      "cell_type": "code",
      "source": [
        "# Check the receipt of the donation transaction\n",
        "donation_receipt = web3.eth.getTransactionReceipt(donation_tx_hash)\n",
        "print(f\"Donation Transaction Status: {donation_receipt.status}\")\n"
      ],
      "metadata": {
        "id": "qqogad9j7Vf7"
      },
      "execution_count": null,
      "outputs": []
    },
    {
      "cell_type": "markdown",
      "source": [
        "#5. Conclusion: Exclusive Authorization of Ethereum Transactions\n",
        "\n",
        "Using the Ethereum Ledger, the implemented solution ensures that:\n",
        "\n",
        "    All fund management transactions occur directly on Ethereum, providing full transparency and immutability.\n",
        "    Donors and NGOs can track fund flows and validate all interactions via smart contracts.\n",
        "    No off-ledger transactions are authorized, securing the entire process and ensuring accountability."
      ],
      "metadata": {
        "id": "mTq3jjLJ7XXJ"
      }
    },
    {
      "cell_type": "markdown",
      "source": [
        "#5.1. Visualization of Results using Python\n",
        "\n",
        "We will visualize the following:\n",
        "\n",
        "    Transaction Flow: Show the donation amounts received over time.\n",
        "    Fund Allocation: Visualize how funds are allocated to different NGOs.\n",
        "    Ethereum Transaction Status: Track successful and failed transactions."
      ],
      "metadata": {
        "id": "QYCk85Ho7seh"
      }
    },
    {
      "cell_type": "markdown",
      "source": [
        "By integrating these Python visualization techniques in Google Colab, you can:\n",
        "\n",
        "    Track donations and fund releases over time, showing trends and performance.\n",
        "    Visualize fund distribution among NGOs, ensuring transparency in allocation.\n",
        "    Monitor Ethereum transaction status, helping to maintain trust in the blockchain system.\n",
        "\n",
        "These visual tools offer real-time insights into the blockchain-powered NGO fund management system, further reinforcing transparency, accountability, and operational efficiency.\n"
      ],
      "metadata": {
        "id": "fpNFZZ3f889n"
      }
    },
    {
      "cell_type": "markdown",
      "source": [
        "**Step 5.1:** Install Necessary Libraries for Visualization"
      ],
      "metadata": {
        "id": "gi8_9OHN7zGL"
      }
    },
    {
      "cell_type": "code",
      "source": [
        "# Install Plotly for interactive visualizations\n",
        "!pip install plotly\n",
        "\n",
        "# Install Matplotlib for simple static visualizations\n",
        "!pip install matplotlib\n"
      ],
      "metadata": {
        "id": "rqYdO_LX7mXP"
      },
      "execution_count": null,
      "outputs": []
    },
    {
      "cell_type": "markdown",
      "source": [
        "**Step 5.2**: Set Up Data Collection from Ethereum Ledger\n",
        "\n",
        "We can query the Ethereum blockchain to get details of transactions like donation amounts and timestamps. This data will be plotted to visualize the trends."
      ],
      "metadata": {
        "id": "DT0iofLY74w0"
      }
    },
    {
      "cell_type": "code",
      "source": [
        "import matplotlib.pyplot as plt\n",
        "import plotly.graph_objects as go\n",
        "import time\n",
        "\n",
        "# Dummy data for the example (in real usage, pull this data from the Ethereum ledger)\n",
        "donation_data = [\n",
        "    {\"time\": \"2024-10-12 10:00\", \"amount\": 1.5},\n",
        "    {\"time\": \"2024-10-13 12:30\", \"amount\": 2.0},\n",
        "    {\"time\": \"2024-10-14 14:00\", \"amount\": 3.2},\n",
        "    {\"time\": \"2024-10-15 16:15\", \"amount\": 1.0},\n",
        "]\n",
        "\n",
        "times = [entry[\"time\"] for entry in donation_data]\n",
        "amounts = [entry[\"amount\"] for entry in donation_data]"
      ],
      "metadata": {
        "id": "ioE3Azzx78vt"
      },
      "execution_count": null,
      "outputs": []
    },
    {
      "cell_type": "markdown",
      "source": [
        "**Step 5.3**: Visualize Donation Flow Over Time\n",
        "\n",
        "We can use Matplotlib to create a simple line plot that shows the donation amounts received over time."
      ],
      "metadata": {
        "id": "EfCDp9bS7_Wj"
      }
    },
    {
      "cell_type": "markdown",
      "source": [
        "**This plot will show a clear trend of donations over time, helping to visualize when and how much was donated to the NGO.**"
      ],
      "metadata": {
        "id": "l1eAHBjm8IwI"
      }
    },
    {
      "cell_type": "code",
      "source": [
        "# Simple plot of donations over time\n",
        "plt.figure(figsize=(10,6))\n",
        "plt.plot(times, amounts, marker='o', color='b', linestyle='-', label='Donation Amount (ETH)')\n",
        "plt.title('Donation Flow Over Time')\n",
        "plt.xlabel('Time')\n",
        "plt.ylabel('Donation Amount (ETH)')\n",
        "plt.xticks(rotation=45)\n",
        "plt.grid(True)\n",
        "plt.legend()\n",
        "plt.tight_layout()\n",
        "plt.show()"
      ],
      "metadata": {
        "id": "M2yTWaVq8Dr7"
      },
      "execution_count": null,
      "outputs": []
    },
    {
      "cell_type": "markdown",
      "source": [
        "**Step 5.4**: Visualize Fund Allocation with a Pie Chart\n",
        "\n",
        "We can create a pie chart to visualize how funds are distributed to various NGOs. Assume the funds are being distributed among several projects run by the NGOs."
      ],
      "metadata": {
        "id": "fSiP839Y8NqC"
      }
    },
    {
      "cell_type": "markdown",
      "source": [
        "**This chart will show the proportional distribution of funds to different NGOs, giving a snapshot of how donations are being utilized.**"
      ],
      "metadata": {
        "id": "O-9NEJQe8VCB"
      }
    },
    {
      "cell_type": "code",
      "source": [
        "# Dummy data for NGO fund distribution (example)\n",
        "fund_distribution = {\n",
        "    \"NGO 1\": 4.5,\n",
        "    \"NGO 2\": 2.5,\n",
        "    \"NGO 3\": 3.2,\n",
        "}\n",
        "\n",
        "# Pie chart of fund allocation\n",
        "plt.figure(figsize=(7,7))\n",
        "plt.pie(fund_distribution.values(), labels=fund_distribution.keys(), autopct='%1.1f%%', startangle=140)\n",
        "plt.title('Fund Allocation to NGOs')\n",
        "plt.axis('equal')  # Equal aspect ratio ensures the pie chart is circular\n",
        "plt.show()\n"
      ],
      "metadata": {
        "id": "fUsdB-Qb8FzM"
      },
      "execution_count": null,
      "outputs": []
    },
    {
      "cell_type": "markdown",
      "source": [
        "**Step 5.5**: Interactive Visualization Using Plotly\n",
        "\n",
        "Using Plotly, we can create an interactive bar chart to compare donations and fund releases, or visualize the time progression of donation and release events."
      ],
      "metadata": {
        "id": "ztniJxi38Suc"
      }
    },
    {
      "cell_type": "markdown",
      "source": [
        "**This interactive bar chart allows users to visualize and compare how much money is being donated versus how much is being released to the NGOs, over time.**"
      ],
      "metadata": {
        "id": "q2XtFXaH8fkL"
      }
    },
    {
      "cell_type": "code",
      "source": [
        "# Create a bar chart comparing donations vs fund releases (dummy data)\n",
        "donations = [1.5, 2.0, 3.2, 1.0]\n",
        "releases = [1.0, 2.5, 2.5, 1.2]\n",
        "\n",
        "fig = go.Figure(data=[\n",
        "    go.Bar(name='Donations (ETH)', x=times, y=donations),\n",
        "    go.Bar(name='Fund Releases (ETH)', x=times, y=releases)\n",
        "])\n",
        "\n",
        "# Customize the layout\n",
        "fig.update_layout(\n",
        "    title='Donations vs Fund Releases Over Time',\n",
        "    xaxis_title='Time',\n",
        "    yaxis_title='Amount (ETH)',\n",
        "    barmode='group',\n",
        "    xaxis_tickangle=-45\n",
        ")\n",
        "\n",
        "# Display the interactive plot\n",
        "fig.show()"
      ],
      "metadata": {
        "id": "OejO17j28cAI"
      },
      "execution_count": null,
      "outputs": []
    },
    {
      "cell_type": "markdown",
      "source": [
        "**Step 5.6**: Monitor Ethereum Transaction Status\n",
        "\n",
        "We can also visualize the success and failure rate of Ethereum transactions, which could be useful for monitoring network performance."
      ],
      "metadata": {
        "id": "xeTPcSru8hmh"
      }
    },
    {
      "cell_type": "markdown",
      "source": [
        "**This pie chart provides a simple but effective way to track the overall performance and reliability of the system.**"
      ],
      "metadata": {
        "id": "3T8W7QDi8qN0"
      }
    },
    {
      "cell_type": "code",
      "source": [
        "# Data for transaction success/failure\n",
        "transaction_statuses = [\"Success\", \"Success\", \"Failed\", \"Success\"]\n",
        "transaction_counts = [3, 1]  # 3 successful, 1 failed\n",
        "\n",
        "# Pie chart for transaction status\n",
        "plt.figure(figsize=(6,6))\n",
        "plt.pie(transaction_counts, labels=[\"Success\", \"Failed\"], autopct='%1.1f%%', startangle=90, colors=['green', 'red'])\n",
        "plt.title('Ethereum Transaction Status')\n",
        "plt.axis('equal')\n",
        "plt.show()\n"
      ],
      "metadata": {
        "id": "kTTzIUaC8k7U"
      },
      "execution_count": null,
      "outputs": []
    },
    {
      "cell_type": "markdown",
      "source": [
        "---\n",
        "---"
      ],
      "metadata": {
        "id": "XvYm-qKi8_a5"
      }
    }
  ]
}